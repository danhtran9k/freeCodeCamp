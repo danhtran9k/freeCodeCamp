{
 "cells": [
  {
   "cell_type": "code",
   "execution_count": null,
   "id": "2495a5df",
   "metadata": {
    "vscode": {
     "languageId": "plaintext"
    }
   },
   "outputs": [],
   "source": [
    "import subprocess\n",
    "\n",
    "# Step 1: Retrieve the PROJECT_ID\n",
    "try:\n",
    "    project_id_command = [\"gcloud\", \"config\", \"get-value\", \"project\"]\n",
    "    PROJECT_ID = subprocess.check_output(project_id_command, text=True).strip()\n",
    "except subprocess.CalledProcessError:\n",
    "    PROJECT_ID = None\n",
    "    print(\"Error: Unable to retrieve PROJECT_ID. Ensure `gcloud` is configured correctly.\")\n",
    "\n",
    "# Step 2: Retrieve the REGION\n",
    "try:\n",
    "    region_command = [\n",
    "        \"gcloud\",\n",
    "        \"compute\",\n",
    "        \"project-info\",\n",
    "        \"describe\",\n",
    "        \"--format=value(commonInstanceMetadata.items[google-compute-default-region])\"\n",
    "    ]\n",
    "    REGION = subprocess.check_output(region_command, text=True).strip()\n",
    "except subprocess.CalledProcessError:\n",
    "    REGION = None\n",
    "    print(\"Error: Unable to retrieve REGION. Set a default region if needed.\")\n",
    "    \n",
    "# Step 3: Validate and Set Default Region (if needed)\n",
    "if not REGION:\n",
    "    REGION = \"<YOUR REGION>\"  # Replace this with a default value if REGION is not retrievable\n",
    "    \n",
    "# Step 4: Define GCS_BUCKET\n",
    "GCS_BUCKET = f\"gs://{PROJECT_ID}\"\n",
    "\n",
    "# Step 5: Print and Verify\n",
    "print(f\"PROJECT_ID: {PROJECT_ID}\")\n",
    "print(f\"REGION: {REGION}\")"
   ]
  }
 ],
 "metadata": {
  "language_info": {
   "name": "python"
  }
 },
 "nbformat": 4,
 "nbformat_minor": 5
}
