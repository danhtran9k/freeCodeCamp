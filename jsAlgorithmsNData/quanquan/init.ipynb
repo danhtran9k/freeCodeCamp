{
 "cells": [
  {
   "cell_type": "code",
   "execution_count": null,
   "id": "7a98142d",
   "metadata": {
    "vscode": {
     "languageId": "plaintext"
    }
   },
   "outputs": [],
   "source": [
    "# Modify these variables to include your project ID and region.\n",
    "PROJECT_ID = ! gcloud config get project\n",
    "PROJECT_ID = PROJECT_ID[0]\n",
    "\n",
    "import subprocess\n",
    "\n",
    "# Execute the gcloud command to get the region\n",
    "output = subprocess.check_output([\"gcloud\", \"config\", \"get-value\", \"compute/region\"])\n",
    "\n",
    "# Decode the output from bytes to string\n",
    "region = output.decode(\"utf-8\").strip()\n",
    "\n",
    "LOCATION = region\n",
    "\n",
    "print(PROJECT_ID)\n",
    "print(LOCATION)"
   ]
  },
  {
   "cell_type": "code",
   "execution_count": null,
   "id": "e541454f",
   "metadata": {
    "vscode": {
     "languageId": "plaintext"
    }
   },
   "outputs": [],
   "source": [
    "# Create the API client\n",
    "from google import genai\n",
    "client = genai.Client(vertexai=True, project=PROJECT_ID, location=LOCATION)"
   ]
  },
  {
   "cell_type": "code",
   "execution_count": null,
   "id": "fc6a435c",
   "metadata": {
    "vscode": {
     "languageId": "plaintext"
    }
   },
   "outputs": [],
   "source": [
    "import os\n",
    "\n",
    "os.environ[\"PROJECT_ID\"] = PROJECT_ID\n",
    "os.environ[\"LOCATION\"] = LOCATION\n",
    "os.environ[\"API_ENDPOINT\"] = f\"{LOCATION}-aiplatform.googleapis.com\""
   ]
  }
 ],
 "metadata": {
  "language_info": {
   "name": "python"
  }
 },
 "nbformat": 4,
 "nbformat_minor": 5
}
